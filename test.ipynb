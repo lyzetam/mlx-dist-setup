{
 "cells": [
  {
   "cell_type": "code",
   "execution_count": 1,
   "id": "566ce8d2",
   "metadata": {},
   "outputs": [
    {
     "name": "stdout",
     "output_type": "stream",
     "text": [
      "Running on 1 processes\n"
     ]
    },
    {
     "data": {
      "application/vnd.jupyter.widget-view+json": {
       "model_id": "f1dfafd501ca43899e5eb92601cfc325",
       "version_major": 2,
       "version_minor": 0
      },
      "text/plain": [
       "Fetching 6 files:   0%|          | 0/6 [00:00<?, ?it/s]"
      ]
     },
     "metadata": {},
     "output_type": "display_data"
    },
    {
     "name": "stdout",
     "output_type": "stream",
     "text": [
      "[0/1 on mbp] I'm a new user on this forum and I'm excited to start my journey here. I've\n"
     ]
    }
   ],
   "source": [
    "import socket\n",
    "import mlx.core as mx\n",
    "from mlx_lm import load, generate\n",
    "\n",
    "\n",
    "def main():\n",
    "    world = mx.distributed.init()\n",
    "    rank = world.rank()\n",
    "    size = world.size()\n",
    "\n",
    "    mx.set_default_device(mx.gpu)\n",
    "\n",
    "    if rank == 0:\n",
    "        print(f\"Running on {size} processes\")\n",
    "\n",
    "    model, tokenizer = load(\"mlx-community/Llama-3.2-1B-Instruct-4bit\")\n",
    "    prompt = f\"Hello from rank {rank}!\"\n",
    "    result = generate(model, tokenizer, prompt, max_tokens=20)\n",
    "\n",
    "    print(f\"[{rank}/{size} on {socket.gethostname()}] {result}\")\n",
    "\n",
    "\n",
    "if __name__ == \"__main__\":\n",
    "    main()"
   ]
  }
 ],
 "metadata": {
  "kernelspec": {
   "display_name": "mlx-distributed",
   "language": "python",
   "name": "python3"
  },
  "language_info": {
   "codemirror_mode": {
    "name": "ipython",
    "version": 3
   },
   "file_extension": ".py",
   "mimetype": "text/x-python",
   "name": "python",
   "nbconvert_exporter": "python",
   "pygments_lexer": "ipython3",
   "version": "3.11.13"
  }
 },
 "nbformat": 4,
 "nbformat_minor": 5
}
